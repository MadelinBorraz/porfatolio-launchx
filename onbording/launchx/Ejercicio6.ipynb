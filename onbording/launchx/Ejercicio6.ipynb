{
 "cells": [
  {
   "cell_type": "markdown",
   "metadata": {},
   "source": [
    "# Ejercicio1: Crear y usar listas de Python\n",
    "Ejercicio: Usar listas para almacenar nombres de planetas\n",
    "Las listas permiten almacenar varios valores en una sola variable. Comenzarás un proyecto sobre información planetaria creando una lista de planetas."
   ]
  },
  {
   "cell_type": "markdown",
   "metadata": {},
   "source": [
    "#Creamos la lista planets y la mostramos"
   ]
  },
  {
   "cell_type": "code",
   "execution_count": 4,
   "metadata": {},
   "outputs": [
    {
     "name": "stdout",
     "output_type": "stream",
     "text": [
      "Existen  8 planetas\n"
     ]
    }
   ],
   "source": [
    "planetas = ['MERCURIO', 'VENUS', 'TIERRA', 'MARTE', 'JUPITER', 'SATURNO', 'URANO', 'NEPTUNO']\n",
    "\n",
    "print('Existen ', len(planetas), 'planetas')"
   ]
  },
  {
   "cell_type": "markdown",
   "metadata": {},
   "source": [
    "Agregamos a plutón y mostramos el último elemento"
   ]
  },
  {
   "cell_type": "code",
   "execution_count": 5,
   "metadata": {},
   "outputs": [
    {
     "name": "stdout",
     "output_type": "stream",
     "text": [
      "Plutón es el último planeta\n"
     ]
    }
   ],
   "source": [
    "planetas.append('PLUTÓN')\n",
    "\n",
    "print(planetas[-1], 'es el último planeta')"
   ]
  },
  {
   "cell_type": "markdown",
   "metadata": {},
   "source": [
    "# Ejercicio 2"
   ]
  },
  {
   "cell_type": "markdown",
   "metadata": {},
   "source": [
    "Solicitamos el nombre de un planeta *Pista:  input()*"
   ]
  },
  {
   "cell_type": "code",
   "execution_count": 6,
   "metadata": {},
   "outputs": [],
   "source": [
    "usr_planeta = input('Por favor el nombre de un planeta (con MAYUSCULAS)')"
   ]
  },
  {
   "cell_type": "markdown",
   "metadata": {},
   "source": [
    "Busca el planeta en la lista\n"
   ]
  },
  {
   "cell_type": "code",
   "execution_count": 7,
   "metadata": {},
   "outputs": [],
   "source": [
    "planeta_index = planetas.index(usr_planeta)"
   ]
  },
  {
   "cell_type": "markdown",
   "metadata": {},
   "source": [
    "Muestra los planetas más cercanos al sol\n"
   ]
  },
  {
   "cell_type": "code",
   "execution_count": 8,
   "metadata": {},
   "outputs": [
    {
     "name": "stdout",
     "output_type": "stream",
     "text": [
      "Los planetas cercanos son VENUS\n",
      "['MERCURIO']\n"
     ]
    }
   ],
   "source": [
    "print('Los planetas cercanos son ' + usr_planeta)\n",
    "print(planetas[0:planeta_index])"
   ]
  },
  {
   "cell_type": "markdown",
   "metadata": {},
   "source": [
    "Muestra los planetas más lejanos al sol"
   ]
  },
  {
   "cell_type": "code",
   "execution_count": 9,
   "metadata": {},
   "outputs": [
    {
     "name": "stdout",
     "output_type": "stream",
     "text": [
      "Los planetas después son:  VENUS\n",
      "['TIERRA', 'MARTE', 'JUPITER', 'SATURNO', 'URANO', 'NEPTUNO', 'Plutón']\n"
     ]
    }
   ],
   "source": [
    "print('Los planetas después son:  ' + usr_planeta)\n",
    "print(planetas[planeta_index + 1:])"
   ]
  }
 ],
 "metadata": {
  "interpreter": {
   "hash": "aee8b7b246df8f9039afb4144a1f6fd8d2ca17a180786b69acc140d282b71a49"
  },
  "kernelspec": {
   "display_name": "Python 3.9.0 64-bit",
   "language": "python",
   "name": "python3"
  },
  "language_info": {
   "codemirror_mode": {
    "name": "ipython",
    "version": 3
   },
   "file_extension": ".py",
   "mimetype": "text/x-python",
   "name": "python",
   "nbconvert_exporter": "python",
   "pygments_lexer": "ipython3",
   "version": "3.9.0"
  },
  "orig_nbformat": 4
 },
 "nbformat": 4,
 "nbformat_minor": 2
}
